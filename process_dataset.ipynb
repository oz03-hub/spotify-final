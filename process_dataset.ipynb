{
 "cells": [
  {
   "cell_type": "code",
   "execution_count": 1,
   "id": "4534911a",
   "metadata": {},
   "outputs": [],
   "source": [
    "import os\n",
    "import json\n",
    "import tqdm"
   ]
  },
  {
   "cell_type": "code",
   "execution_count": 2,
   "id": "32de3ac2",
   "metadata": {},
   "outputs": [],
   "source": [
    "files = os.listdir(\"dataset/spotify_million_playlist_dataset/data\")\n",
    "files.append(\"challenge_set.json\")"
   ]
  },
  {
   "cell_type": "code",
   "execution_count": 3,
   "id": "02679a64",
   "metadata": {},
   "outputs": [
    {
     "name": "stderr",
     "output_type": "stream",
     "text": [
      "100%|██████████| 1001/1001 [04:06<00:00,  4.06it/s]\n"
     ]
    }
   ],
   "source": [
    "def parse_id(uri):\n",
    "    return uri.split(\":\")[2]\n",
    "\n",
    "tracks = {}\n",
    "for file in tqdm.tqdm(files):    \n",
    "    if \"challenge\" in file:\n",
    "        f_path = os.path.join(\"dataset\", \"spotify_million_playlist_dataset_challenge\", file)\n",
    "    else:\n",
    "        f_path = os.path.join(\"dataset\", \"spotify_million_playlist_dataset\", \"data\", file)\n",
    "\n",
    "    with open(f_path) as f:\n",
    "        data = json.load(f)\n",
    "\n",
    "        for playlist in data[\"playlists\"]:\n",
    "            for track in playlist[\"tracks\"]:\n",
    "                track_id = parse_id(track[\"track_uri\"])\n",
    "                if track_id not in tracks:\n",
    "                    tracks[track_id] = track\n",
    "                    tracks[track_id][\"count\"] = 1\n",
    "                else:\n",
    "                    tracks[track_id][\"count\"] += 1\n",
    "\n",
    "with open(\"tracks_index.json\", \"w\") as f:\n",
    "    json.dump(tracks, f, indent=4)"
   ]
  },
  {
   "cell_type": "code",
   "execution_count": null,
   "id": "3d482f44",
   "metadata": {},
   "outputs": [],
   "source": []
  }
 ],
 "metadata": {
  "kernelspec": {
   "display_name": "ml",
   "language": "python",
   "name": "python3"
  },
  "language_info": {
   "codemirror_mode": {
    "name": "ipython",
    "version": 3
   },
   "file_extension": ".py",
   "mimetype": "text/x-python",
   "name": "python",
   "nbconvert_exporter": "python",
   "pygments_lexer": "ipython3",
   "version": "3.13.7"
  }
 },
 "nbformat": 4,
 "nbformat_minor": 5
}
